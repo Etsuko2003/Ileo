{
 "cells": [
  {
   "cell_type": "code",
   "execution_count": 3,
   "metadata": {},
   "outputs": [],
   "source": [
    "import folium\n",
    "\n",
    "# Créer la carte\n",
    "m = folium.Map(location=[48.8566, 2.3522], zoom_start=12)\n",
    "\n",
    "# Définir le HTML pour le marqueur avec un ID unique\n",
    "marker_html = \"\"\"\n",
    "<div id=\"custom-marker\" style=\"background-color: blue; width: 20px; height: 20px; border-radius: 50%; cursor: pointer;\">\n",
    "</div>\n",
    "\"\"\"\n",
    "\n",
    "# Ajouter le marqueur à la carte en utilisant un DivIcon avec le HTML défini\n",
    "marker = folium.Marker([48.8566, 2.3522], icon=folium.DivIcon(html=marker_html)).add_to(\n",
    "    m\n",
    ")\n",
    "\n",
    "# Injecter le script JavaScript pour changer la couleur du marqueur au clic\n",
    "script = \"\"\"\n",
    "<script>\n",
    "document.addEventListener(\"DOMContentLoaded\", function() {\n",
    "    var marker = document.getElementById(\"custom-marker\");\n",
    "    marker.addEventListener(\"click\", function() {\n",
    "        // Changer la couleur du marqueur\n",
    "        if (marker.style.backgroundColor === \"blue\") {\n",
    "            marker.style.backgroundColor = \"red\";\n",
    "        } else {\n",
    "            marker.style.backgroundColor = \"blue\";\n",
    "        }\n",
    "    });\n",
    "});\n",
    "</script>\n",
    "\"\"\"\n",
    "\n",
    "# Ajouter le script à la carte\n",
    "m.get_root().html.add_child(folium.Element(script))\n",
    "\n",
    "# Enregistrer la carte\n",
    "m.save(\"map.html\")"
   ]
  }
 ],
 "metadata": {
  "kernelspec": {
   "display_name": "env",
   "language": "python",
   "name": "python3"
  },
  "language_info": {
   "codemirror_mode": {
    "name": "ipython",
    "version": 3
   },
   "file_extension": ".py",
   "mimetype": "text/x-python",
   "name": "python",
   "nbconvert_exporter": "python",
   "pygments_lexer": "ipython3",
   "version": "3.12.4"
  }
 },
 "nbformat": 4,
 "nbformat_minor": 2
}
